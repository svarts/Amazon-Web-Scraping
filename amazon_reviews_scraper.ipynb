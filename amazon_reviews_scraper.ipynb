{
 "cells": [
  {
   "cell_type": "code",
   "execution_count": null,
   "metadata": {
    "lines_to_next_cell": 1
   },
   "outputs": [],
   "source": [
    "import requests\n",
    "from bs4 import BeautifulSoup\n",
    "import pandas as pd\n",
    "import matplotlib.pyplot as plt"
   ]
  },
  {
   "cell_type": "code",
   "execution_count": null,
   "metadata": {
    "lines_to_next_cell": 1
   },
   "outputs": [],
   "source": [
    "def get_amazon_reviews(url, num_pages):\n",
    "    \"\"\"\n",
    "    Collects reviews from the specified Amazon product URL.\n",
    "\n",
    "    Args:\n",
    "        url (str): The URL of the Amazon product reviews page.\n",
    "        num_pages (int): The number of pages to scrape.\n",
    "\n",
    "    Returns:\n",
    "        pd.DataFrame: A DataFrame containing the collected reviews.\n",
    "    \"\"\"\n",
    "    headers = {\n",
    "        \"User-Agent\": \"Mozilla/5.0 (Windows NT 10.0; Win64; x64) AppleWebKit/537.36 (KHTML, like Gecko) Chrome/58.0.3029.110 Safari/537.3\"\n",
    "    }\n",
    "    \n",
    "    reviews = []\n",
    "    \n",
    "    for page in range(1, num_pages + 1):\n",
    "        page_url = f\"{url}&pageNumber={page}\"\n",
    "        response = requests.get(page_url, headers=headers)\n",
    "        \n",
    "        if response.status_code != 200:\n",
    "            print(f\"Failed to retrieve page {page}: Status code {response.status_code}\")\n",
    "            continue\n",
    "        \n",
    "        soup = BeautifulSoup(response.content, 'html.parser')\n",
    "        \n",
    "        review_blocks = soup.find_all('div', {'data-hook': 'review'})\n",
    "        \n",
    "        if not review_blocks:\n",
    "            print(f\"No reviews found on page {page}\")\n",
    "            continue\n",
    "        \n",
    "        for review in review_blocks:\n",
    "            try:\n",
    "                title = review.find('a', {'data-hook': 'review-title'}).text.strip()\n",
    "                rating = review.find('i', {'data-hook': 'review-star-rating'}).text.strip().split(' ')[0]\n",
    "                body = review.find('span', {'data-hook': 'review-body'}).text.strip()\n",
    "                reviews.append({\"Title\": title, \"Rating\": float(rating), \"Review\": body})\n",
    "            except AttributeError:\n",
    "                print(f\"Failed to parse a review on page {page}\")\n",
    "    \n",
    "    return pd.DataFrame(reviews)"
   ]
  },
  {
   "cell_type": "code",
   "execution_count": null,
   "metadata": {
    "lines_to_next_cell": 1
   },
   "outputs": [],
   "source": [
    "def save_reviews_to_csv(reviews_df, filename='amazon_reviews.csv'):\n",
    "    \"\"\"\n",
    "    Saves the reviews to a CSV file.\n",
    "\n",
    "    Args:\n",
    "        reviews_df (pd.DataFrame): A DataFrame containing the reviews.\n",
    "        filename (str): The name of the file to save the reviews to.\n",
    "    \"\"\"\n",
    "    reviews_df.to_csv(filename, index=False)"
   ]
  },
  {
   "cell_type": "code",
   "execution_count": null,
   "metadata": {
    "lines_to_next_cell": 1
   },
   "outputs": [],
   "source": [
    "def plot_review_statistics(reviews_df):\n",
    "    \"\"\"\n",
    "    Visualizes the review statistics and saves the plots.\n",
    "\n",
    "    Args:\n",
    "        reviews_df (pd.DataFrame): A DataFrame containing the reviews.\n",
    "    \"\"\"\n",
    "    # Average rating\n",
    "    average_rating = reviews_df['Rating'].mean()\n",
    "    print(f\"Average Rating: {average_rating}\")\n",
    "\n",
    "    # Rating distribution\n",
    "    reviews_df['Rating'].value_counts().sort_index().plot(kind='bar', title='Rating Distribution')\n",
    "    plt.xlabel('Ratings')\n",
    "    plt.ylabel('Frequency')\n",
    "    plt.savefig('rating_distribution.png')\n",
    "    plt.show()\n",
    "\n",
    "    # Review length distribution\n",
    "    reviews_df['Review Length'] = reviews_df['Review'].apply(len)\n",
    "    reviews_df['Review Length'].plot(kind='hist', bins=20, title='Review Length Distribution')\n",
    "    plt.xlabel('Review Length')\n",
    "    plt.ylabel('Frequency')\n",
    "    plt.savefig('review_length_distribution.png')\n",
    "    plt.show()\n",
    "\n",
    "    with open('summary.txt', 'w') as f:\n",
    "        f.write(f\"Average Rating: {average_rating}\\n\")"
   ]
  },
  {
   "cell_type": "code",
   "execution_count": null,
   "metadata": {
    "lines_to_next_cell": 1
   },
   "outputs": [],
   "source": [
    "def main():\n",
    "    url = 'https://www.amazon.com/Purina-Friskies-Gravy-Swirlers-Adult/dp/B07CWV479K/ref=sr_1_2?content-id=amzn1.sym.3e23f907-b859-4094-8b45-cf96f8c9286b%3Aamzn1.sym.3e23f907-b859-4094-8b45-cf96f8c9286b&dib=eyJ2IjoiMSJ9.VNM8MRdDrg3isywwx603qMbqmQ7KQCl5UckHOh9tcFZN5osUvJpPU8Qn09e9HF63FdfN-70bIXoUoxFRiBUU_vYKfUEH2f4rMpio9gB6Ma52saZEqYJOtnRatnpIxD5wHX4MjS8q5nif1LlLMnX4HhhY80FJud6ze8sWZu6ido5ca_cniqMB0RLjdNS-uJY8bUshWTC_qpR9tL0zCCJvNdQgRvH5kIIAoEJJpPeuF4QXpkK-q3sGCkFSdO9zIfPKMx_kYhKhFSwSE8F40QV8V34s7mQbq9Stwa3h5VdnitI._3b5VCZTl_h0MBcRu9GhKiLpaIY9cd3etkDDBp2Hh0A&dib_tag=se&keywords=cat%2Bfood&pd_rd_r=c46fb69f-1d10-47e0-8c36-6905fcc971d5&pd_rd_w=0M8Mu&pd_rd_wg=zUsJG&pf_rd_p=3e23f907-b859-4094-8b45-cf96f8c9286b&pf_rd_r=S4KQ1YW50F1WPCWCA70D&qid=1717236522&sr=8-2&th=1'\n",
    "\n",
    "    reviews_df = get_amazon_reviews(url, 5)\n",
    "    print(reviews_df.head())\n",
    "\n",
    "    save_reviews_to_csv(reviews_df)\n",
    "\n",
    "    plot_review_statistics(reviews_df)"
   ]
  },
  {
   "cell_type": "code",
   "execution_count": null,
   "metadata": {},
   "outputs": [],
   "source": [
    "if __name__ == \"__main__\":\n",
    "    main()"
   ]
  }
 ],
 "metadata": {
  "jupytext": {
   "cell_metadata_filter": "-all",
   "main_language": "python",
   "notebook_metadata_filter": "-all"
  }
 },
 "nbformat": 4,
 "nbformat_minor": 2
}
