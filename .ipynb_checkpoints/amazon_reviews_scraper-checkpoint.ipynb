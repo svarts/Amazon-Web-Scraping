{
 "cells": [
  {
   "cell_type": "code",
   "execution_count": null,
   "metadata": {
    "lines_to_next_cell": 1
   },
   "outputs": [],
   "source": [
    "import requests\n",
    "from bs4 import BeautifulSoup\n",
    "import pandas as pd\n",
    "import matplotlib.pyplot as plt"
   ]
  },
  {
   "cell_type": "code",
   "execution_count": null,
   "metadata": {
    "lines_to_next_cell": 1
   },
   "outputs": [],
   "source": [
    "def get_amazon_reviews(url, num_pages):\n",
    "    \"\"\"\n",
    "    Belirtilen Amazon ürün URL'sinden yorumları toplar.\n",
    "\n",
    "    Args:\n",
    "        url (str): Amazon ürün yorumları sayfasının URL'si.\n",
    "        num_pages (int): Toplanacak sayfa sayısı.\n",
    "\n",
    "    Returns:\n",
    "        pd.DataFrame: Toplanan yorumları içeren bir DataFrame.\n",
    "    \"\"\"\n",
    "    headers = {\n",
    "        \"User-Agent\": \"Mozilla/5.0 (Windows NT 10.0; Win64; x64) AppleWebKit/537.36 (KHTML, like Gecko) Chrome/58.0.3029.110 Safari/537.3\"\n",
    "    }\n",
    "    \n",
    "    reviews = []\n",
    "    \n",
    "    for page in range(1, num_pages + 1):\n",
    "        page_url = f\"{url}&pageNumber={page}\"\n",
    "        response = requests.get(page_url, headers=headers)\n",
    "        soup = BeautifulSoup(response.content, 'html.parser')\n",
    "        \n",
    "        review_blocks = soup.find_all('div', {'data-hook': 'review'})\n",
    "        \n",
    "        for review in review_blocks:\n",
    "            title = review.find('a', {'data-hook': 'review-title'}).text.strip()\n",
    "            rating = review.find('i', {'data-hook': 'review-star-rating'}).text.strip().split(' ')[0]\n",
    "            body = review.find('span', {'data-hook': 'review-body'}).text.strip()\n",
    "            reviews.append({\"Title\": title, \"Rating\": float(rating), \"Review\": body})\n",
    "    \n",
    "    return pd.DataFrame(reviews)"
   ]
  },
  {
   "cell_type": "code",
   "execution_count": null,
   "metadata": {
    "lines_to_next_cell": 1
   },
   "outputs": [],
   "source": [
    "def save_reviews_to_csv(reviews_df, filename='amazon_reviews.csv'):\n",
    "    \"\"\"\n",
    "    Yorumları CSV dosyasına kaydeder.\n",
    "\n",
    "    Args:\n",
    "        reviews_df (pd.DataFrame): Yorumları içeren DataFrame.\n",
    "        filename (str): Kaydedilecek dosya adı.\n",
    "    \"\"\"\n",
    "    reviews_df.to_csv(filename, index=False)"
   ]
  },
  {
   "cell_type": "code",
   "execution_count": null,
   "metadata": {
    "lines_to_next_cell": 1
   },
   "outputs": [],
   "source": [
    "def plot_review_statistics(reviews_df):\n",
    "    \"\"\"\n",
    "    Yorum istatistiklerini görselleştirir ve dosya olarak kaydeder.\n",
    "\n",
    "    Args:\n",
    "        reviews_df (pd.DataFrame): Yorumları içeren DataFrame.\n",
    "    \"\"\"\n",
    "    # Ortalama puan\n",
    "    average_rating = reviews_df['Rating'].mean()\n",
    "    print(f\"Average Rating: {average_rating}\")\n",
    "\n",
    "    # Puan dağılımı\n",
    "    reviews_df['Rating'].value_counts().sort_index().plot(kind='bar', title='Rating Distribution')\n",
    "    plt.xlabel('Ratings')\n",
    "    plt.ylabel('Frequency')\n",
    "    plt.savefig('rating_distribution.png')\n",
    "    plt.show()\n",
    "\n",
    "    # Yorum uzunlukları\n",
    "    reviews_df['Review Length'] = reviews_df['Review'].apply(len)\n",
    "    reviews_df['Review Length'].plot(kind='hist', bins=20, title='Review Length Distribution')\n",
    "    plt.xlabel('Review Length')\n",
    "    plt.ylabel('Frequency')\n",
    "    plt.savefig('review_length_distribution.png')\n",
    "    plt.show()\n",
    "\n",
    "    with open('summary.txt', 'w') as f:\n",
    "        f.write(f\"Average Rating: {average_rating}\\n\")"
   ]
  },
  {
   "cell_type": "code",
   "execution_count": null,
   "metadata": {
    "lines_to_next_cell": 1
   },
   "outputs": [],
   "source": [
    "def main():\n",
    "    url = 'https://www.amazon.com/product-reviews/B08N5WRWNW?sortBy=recent'\n",
    "\n",
    "    reviews_df = get_amazon_reviews(url, 5)\n",
    "    print(reviews_df.head())\n",
    "\n",
    "    save_reviews_to_csv(reviews_df)\n",
    "\n",
    "    plot_review_statistics(reviews_df)"
   ]
  },
  {
   "cell_type": "code",
   "execution_count": null,
   "metadata": {},
   "outputs": [],
   "source": [
    "if __name__ == \"__main__\":\n",
    "    main()"
   ]
  }
 ],
 "metadata": {
  "jupytext": {
   "cell_metadata_filter": "-all",
   "main_language": "python",
   "notebook_metadata_filter": "-all"
  }
 },
 "nbformat": 4,
 "nbformat_minor": 2
}
